{
 "metadata": {
  "language_info": {
   "codemirror_mode": {
    "name": "ipython",
    "version": 3
   },
   "file_extension": ".py",
   "mimetype": "text/x-python",
   "name": "python",
   "nbconvert_exporter": "python",
   "pygments_lexer": "ipython3",
   "version": "3.8.3-final"
  },
  "orig_nbformat": 2,
  "kernelspec": {
   "name": "python3",
   "display_name": "Python 3.8.3 64-bit (conda)",
   "metadata": {
    "interpreter": {
     "hash": "212a70ff410785b4e58e73e309c1ce5e8d937ee79710f9635d8054acf54346b9"
    }
   }
  }
 },
 "nbformat": 4,
 "nbformat_minor": 2,
 "cells": [
  {
   "cell_type": "code",
   "execution_count": 1,
   "metadata": {},
   "outputs": [
    {
     "output_type": "stream",
     "name": "stdout",
     "text": [
      "[1 2 3 4]\n"
     ]
    }
   ],
   "source": [
    "import numpy as np \n",
    "\n",
    "array1=np.array([1, 2, 3, 4])\n",
    "print(array1)"
   ]
  },
  {
   "cell_type": "code",
   "execution_count": 8,
   "metadata": {},
   "outputs": [
    {
     "output_type": "stream",
     "name": "stdout",
     "text": [
      "[0 1 2 3 4 5 6 7 8 9]\n[1. 1. 1. 1. 1. 1. 1. 1.]\n"
     ]
    }
   ],
   "source": [
    "import numpy as np \n",
    "\n",
    "tal = np.arange(10)\n",
    "\n",
    "print(tal)\n",
    "\n",
    "ettor = np.ones(8)\n",
    "print(ettor)"
   ]
  },
  {
   "cell_type": "code",
   "execution_count": 11,
   "metadata": {
    "tags": []
   },
   "outputs": [
    {
     "output_type": "stream",
     "name": "stdout",
     "text": [
      "[0 0 0 0 0 0]\n[0 0 0 1 0 0]\n[0 0 0 1 1 0]\n[0 0 0 2 1 0]\n[0 1 0 2 1 0]\n[0 1 0 3 1 0]\n[0 1 0 4 1 0]\n[0 1 1 4 1 0]\n[0 1 1 5 1 0]\n[0 1 1 5 2 0]\n[0 1 1 5 2 1]\n[0 1 1 6 2 1]\n[0 2 1 6 2 1]\n[0 2 1 6 3 1]\n[0 2 1 6 3 2]\n[0 2 1 6 4 2]\n[0 2 1 7 4 2]\n[0 2 2 7 4 2]\n[0 2 2 7 4 3]\n[0 2 2 7 5 3]\n[0 2 2 7 6 3]\n[0 2 2 8 6 3]\n[0 3 2 8 6 3]\n[0 3 3 8 6 3]\n[0 3 3 9 6 3]\n[1 3 3 9 6 3]\n[1 3 3 9 7 3]\n[1 3 3 9 7 4]\n[1 3 4 9 7 4]\n[1 4 4 9 7 4]\n[2 4 4 9 7 4]\n[2 4 4 9 8 4]\n[3 4 4 9 8 4]\n[3 4 5 9 8 4]\n[ 3  4  5 10  8  4]\n[ 3  4  6 10  8  4]\n[ 3  4  6 10  9  4]\n[ 3  4  7 10  9  4]\n[ 3  4  8 10  9  4]\n[ 3  4  9 10  9  4]\n[ 4  4  9 10  9  4]\n[ 5  4  9 10  9  4]\n[ 5  4  9 10  9  5]\n[ 5  4 10 10  9  5]\n[ 5  5 10 10  9  5]\n[ 5  5 10 10 10  5]\n[ 5  5 10 10 11  5]\n[ 5  5 11 10 11  5]\n[ 5  6 11 10 11  5]\n[ 5  6 12 10 11  5]\n[ 5  6 12 10 12  5]\n[ 5  6 12 10 12  6]\n[ 5  7 12 10 12  6]\n[ 5  7 13 10 12  6]\n[ 5  7 13 10 13  6]\n[ 5  7 13 10 14  6]\n[ 6  7 13 10 14  6]\n[ 6  7 13 10 15  6]\n[ 6  7 13 10 15  7]\n[ 6  7 13 10 16  7]\n[ 6  8 13 10 16  7]\n[ 6  8 13 10 16  8]\n[ 6  8 13 10 17  8]\n[ 6  8 13 11 17  8]\n[ 6  8 14 11 17  8]\n[ 6  8 14 11 18  8]\n[ 6  8 14 11 19  8]\n[ 7  8 14 11 19  8]\n[ 7  8 14 12 19  8]\n[ 7  8 14 12 19  9]\n[ 7  9 14 12 19  9]\n[ 7 10 14 12 19  9]\n[ 8 10 14 12 19  9]\n[ 8 10 15 12 19  9]\n[ 8 10 15 13 19  9]\n[ 8 10 15 13 19 10]\n[ 8 10 15 13 19 11]\n[ 9 10 15 13 19 11]\n[ 9 10 15 13 20 11]\n[ 9 10 15 14 20 11]\n[ 9 10 15 14 20 12]\n[ 9 10 15 15 20 12]\n[ 9 10 16 15 20 12]\n[ 9 10 16 15 20 13]\n[ 9 10 16 15 20 14]\n[10 10 16 15 20 14]\n[10 10 17 15 20 14]\n[10 10 18 15 20 14]\n[10 10 18 15 20 15]\n[10 10 19 15 20 15]\n[11 10 19 15 20 15]\n[11 10 19 15 20 16]\n[12 10 19 15 20 16]\n[13 10 19 15 20 16]\n[13 10 19 15 20 17]\n[13 10 19 15 21 17]\n[13 10 19 15 22 17]\n[13 11 19 15 22 17]\n[13 11 20 15 22 17]\n[13 11 20 15 22 18]\n[13 11 21 15 22 18]\n"
     ]
    }
   ],
   "source": [
    "import numpy as np \n",
    "import random as rnd \n",
    "\n",
    "utfall = np.zeros(6, dtype = int)\n",
    "print(utfall)\n",
    "\n",
    "antal_kast = 100\n",
    "for i in range (antal_kast):\n",
    "    kast = rnd.randint (1,6)\n",
    "    utfall [kast-1] += 1\n",
    "    print(utfall)\n"
   ]
  },
  {
   "cell_type": "code",
   "execution_count": null,
   "metadata": {},
   "outputs": [],
   "source": []
  }
 ]
}