{
 "metadata": {
  "language_info": {
   "codemirror_mode": {
    "name": "ipython",
    "version": 3
   },
   "file_extension": ".py",
   "mimetype": "text/x-python",
   "name": "python",
   "nbconvert_exporter": "python",
   "pygments_lexer": "ipython3",
   "version": "3.8.3"
  },
  "orig_nbformat": 2,
  "kernelspec": {
   "name": "python383jvsc74a57bd0212a70ff410785b4e58e73e309c1ce5e8d937ee79710f9635d8054acf54346b9",
   "display_name": "Python 3.8.3 64-bit ('base': conda)"
  }
 },
 "nbformat": 4,
 "nbformat_minor": 2,
 "cells": [
  {
   "source": [
    "# 1 (vet inte hur mycket poäng alla kurser ger så skriver 100 på alla)\n",
    "\n",
    "# Börjar med 0 poäng för vi har inget startvärde\n",
    "poäng = 0\n",
    "\n",
    "# lägger in alla kurser i en lista där ämnerna är key och poängen är value \n",
    "kurser = {\n",
    "    \"engelska\": 100,\n",
    "    \"svenska\": 100,\n",
    "    \"prog\": 100,\n",
    "    \"tillämpad\": 100,\n",
    "    \"webb\": 100,\n",
    "    \"fysik\": 100,\n",
    "    \"idrott\": 100,\n",
    "    \"daodac\": 100,\n",
    "    \"matte\": 100\n",
    "}\n",
    "\n",
    "# använder for sats och adderar poängen vilket var 0 från början med kursernas värde så att man får summan av alla kurspoäng tillsammans \n",
    "for i in kurser:\n",
    "    poäng += kurser[i]\n",
    "print(poäng)\n",
    "    \n"
   ],
   "cell_type": "code",
   "metadata": {},
   "execution_count": 2,
   "outputs": [
    {
     "output_type": "stream",
     "name": "stdout",
     "text": [
      "900\n"
     ]
    }
   ]
  }
 ]
}