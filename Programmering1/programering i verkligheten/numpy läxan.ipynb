{
 "metadata": {
  "language_info": {
   "codemirror_mode": {
    "name": "ipython",
    "version": 3
   },
   "file_extension": ".py",
   "mimetype": "text/x-python",
   "name": "python",
   "nbconvert_exporter": "python",
   "pygments_lexer": "ipython3",
   "version": "3.8.3-final"
  },
  "orig_nbformat": 2,
  "kernelspec": {
   "name": "python3",
   "display_name": "Python 3.8.3 64-bit (conda)",
   "metadata": {
    "interpreter": {
     "hash": "212a70ff410785b4e58e73e309c1ce5e8d937ee79710f9635d8054acf54346b9"
    }
   }
  }
 },
 "nbformat": 4,
 "nbformat_minor": 2,
 "cells": [
  {
   "cell_type": "code",
   "execution_count": 4,
   "metadata": {},
   "outputs": [
    {
     "output_type": "stream",
     "name": "stdout",
     "text": [
      "[ 1  2  3  4  5  6  7  8  9 10]\n[-10  -9  -8  -7  -6  -5  -4  -3  -2  -1   0   1   2   3   4   5   6   7\n   8   9  10]\n"
     ]
    }
   ],
   "source": [
    "# 1 a)\n",
    "\n",
    "# importar numpy för att det behövs\n",
    "import numpy as np \n",
    "\n",
    "# skapar en array med 10 element 1 till 10\n",
    "array=np.array([1,2,3,4,5,6,7,8,9,10])\n",
    "\n",
    "# printar arrayen jag skapade\n",
    "print(array)\n",
    "\n",
    "# b)\n",
    "\n",
    "# gör samma här som i a) men med 21 element istället -10 till 10\n",
    "array2=np.array([-10,-9,-8,-7,-6,-5,-4,-3,-2,-1,0,1,2,3,4,5,6,7,8,9,10])\n",
    "\n",
    "# printar den andra arrayen jag skapade\n",
    "print(array2)"
   ]
  },
  {
   "cell_type": "code",
   "execution_count": 8,
   "metadata": {},
   "outputs": [
    {
     "output_type": "stream",
     "name": "stdout",
     "text": [
      "[ 10  20  30  40  50  60  70  80  90 100]\n[ 100  200  300  400  500  600  700  800  900 1000]\n"
     ]
    }
   ],
   "source": [
    "# 2\n",
    "\n",
    "# importar numpy och math för att edt behövs\n",
    "import numpy as np \n",
    "import math  \n",
    "\n",
    "# skapar en array med 10 element 10 till 100\n",
    "array=np.array([10,20,30,40,50,60,70,80,90,100])\n",
    "\n",
    "# printar bara arrayen\n",
    "print(array)\n",
    "\n",
    "# printar arrayen fast multiplicerar med 10\n",
    "print(array*10)"
   ]
  },
  {
   "cell_type": "code",
   "execution_count": null,
   "metadata": {},
   "outputs": [],
   "source": [
    "# 3 \n",
    "\n"
   ]
  }
 ]
}