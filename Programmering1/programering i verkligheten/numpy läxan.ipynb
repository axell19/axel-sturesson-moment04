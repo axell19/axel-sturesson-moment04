{
 "metadata": {
  "language_info": {
   "codemirror_mode": {
    "name": "ipython",
    "version": 3
   },
   "file_extension": ".py",
   "mimetype": "text/x-python",
   "name": "python",
   "nbconvert_exporter": "python",
   "pygments_lexer": "ipython3",
   "version": "3.8.3"
  },
  "orig_nbformat": 2,
  "kernelspec": {
   "name": "python383jvsc74a57bd0212a70ff410785b4e58e73e309c1ce5e8d937ee79710f9635d8054acf54346b9",
   "display_name": "Python 3.8.3 64-bit ('base': conda)"
  }
 },
 "nbformat": 4,
 "nbformat_minor": 2,
 "cells": [
  {
   "cell_type": "code",
   "execution_count": 6,
   "metadata": {},
   "outputs": [
    {
     "output_type": "stream",
     "name": "stdout",
     "text": [
      "[ 1  2  3  4  5  6  7  8  9 10]\n\n [-10  -9  -8  -7  -6  -5  -4  -3  -2  -1   0   1   2   3   4   5   6   7\n   8   9  10]\n"
     ]
    }
   ],
   "source": [
    "# 1 a)\n",
    "# Importar numpy för att det är det biblioteket vi ska använda.  \n",
    "import numpy as np \n",
    "\n",
    "# skapar en array med 10 element 1 till 10\n",
    "array=np.array([1,2,3,4,5,6,7,8,9,10])\n",
    "\n",
    "# printar arrayen jag skapade\n",
    "print(array)\n",
    "\n",
    "# b)\n",
    "\n",
    "# gör samma här som i a) men med 21 element istället -10 till 10\n",
    "array2=np.array([-10,-9,-8,-7,-6,-5,-4,-3,-2,-1,0,1,2,3,4,5,6,7,8,9,10])\n",
    "\n",
    "# printar den andra arrayen jag skapade\n",
    "print(\"\\n\",array2)"
   ]
  },
  {
   "cell_type": "code",
   "execution_count": 7,
   "metadata": {},
   "outputs": [
    {
     "output_type": "stream",
     "name": "stdout",
     "text": [
      "[ 10  20  30  40  50  60  70  80  90 100]\n\n [ 100  200  300  400  500  600  700  800  900 1000]\n"
     ]
    }
   ],
   "source": [
    "# 2\n",
    "\n",
    "# importar numpy och math för att det behövs\n",
    "import numpy as np \n",
    "import math  \n",
    "\n",
    "# skapar en array med 10 element 10 till 100\n",
    "array=np.array([10,20,30,40,50,60,70,80,90,100])\n",
    "\n",
    "# printar bara arrayen\n",
    "print(array)\n",
    "\n",
    "# printar arrayen fast multiplicerar med 10\n",
    "print(\"\\n\",array*10)"
   ]
  }
 ]
}