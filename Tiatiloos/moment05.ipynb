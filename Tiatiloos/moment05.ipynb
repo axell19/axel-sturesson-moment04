{
 "metadata": {
  "language_info": {
   "codemirror_mode": {
    "name": "ipython",
    "version": 3
   },
   "file_extension": ".py",
   "mimetype": "text/x-python",
   "name": "python",
   "nbconvert_exporter": "python",
   "pygments_lexer": "ipython3",
   "version": "3.8.3-final"
  },
  "orig_nbformat": 2,
  "kernelspec": {
   "name": "python3",
   "display_name": "Python 3.8.3 64-bit (conda)",
   "metadata": {
    "interpreter": {
     "hash": "212a70ff410785b4e58e73e309c1ce5e8d937ee79710f9635d8054acf54346b9"
    }
   }
  }
 },
 "nbformat": 4,
 "nbformat_minor": 2,
 "cells": [
  {
   "cell_type": "code",
   "execution_count": 6,
   "metadata": {},
   "outputs": [
    {
     "output_type": "stream",
     "name": "stdout",
     "text": [
      "Axel, TE19D, NTI\n"
     ]
    }
   ],
   "source": [
    "# m05u01\n",
    "\n",
    "def mig():\n",
    "    print(\"Axel, TE19D, NTI\")\n",
    "\n",
    "mig()\n"
   ]
  },
  {
   "cell_type": "code",
   "execution_count": 4,
   "metadata": {},
   "outputs": [
    {
     "output_type": "stream",
     "name": "stdout",
     "text": [
      "Omkretsen på cirkeln är 62.83185307179586\nArean på cirkeln är 314.1592653589793\n"
     ]
    }
   ],
   "source": [
    "#m05u02\n",
    "\n",
    "import math\n",
    "radie = int(input(\"skriv in en radie\"))\n",
    "\n",
    "def omkrets_cirkel(radie):\n",
    "    return 2*math.pi*radie\n",
    "print(\"Omkretsen på cirkeln är\", omkrets_cirkel(radie))\n",
    "\n",
    "def area_cirkel(radie):\n",
    "    return radie*radie*math.pi\n",
    "print(\"Arean på cirkeln är\", area_cirkel(radie))"
   ]
  },
  {
   "cell_type": "code",
   "execution_count": 5,
   "metadata": {},
   "outputs": [
    {
     "output_type": "stream",
     "name": "stdout",
     "text": [
      "43.982297150257104\n153.93804002589985\n"
     ]
    }
   ],
   "source": [
    "# m05u03\n",
    "\n",
    "import math\n",
    "radie = int(input(\"skriv in en radie\"))\n",
    "\n",
    "def omkrets_cirkel(radie):\n",
    "    return 2*math.pi*radie\n",
    "print(omkrets_cirkel(radie))\n",
    "\n",
    "def area_cirkel(radie):\n",
    "    return radie*radie*math.pi\n",
    "print(area_cirkel(radie))"
   ]
  },
  {
   "cell_type": "code",
   "execution_count": null,
   "metadata": {},
   "outputs": [],
   "source": []
  }
 ]
}